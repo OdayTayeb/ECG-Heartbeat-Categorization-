{
 "cells": [
  {
   "cell_type": "code",
   "execution_count": 1,
   "metadata": {},
   "outputs": [],
   "source": [
    "# import necessary libraries\n",
    "import numpy as np\n",
    "import pandas as pd\n",
    "import keras\n",
    "\n",
    "from keras.utils import np_utils\n",
    "import tensorflow as tf\n",
    "import matplotlib.pyplot as plt"
   ]
  },
  {
   "cell_type": "code",
   "execution_count": 2,
   "metadata": {},
   "outputs": [],
   "source": [
    "# read dataset from csv file\n",
    "train=pd.read_csv('mitbih_train.csv')\n",
    "test=pd.read_csv('mitbih_test.csv')"
   ]
  },
  {
   "cell_type": "code",
   "execution_count": 3,
   "metadata": {},
   "outputs": [],
   "source": [
    "# preprocessing data\n",
    "train_np = np.array(train)\n",
    "test_np = np.array(test)\n",
    "X_train = train_np[0:87553,0:187]\n",
    "y_train = train_np[0:87553,187]\n",
    "X_test = test_np[0:21891,0:187]\n",
    "y_test = test_np[0:21891,187]\n",
    "NB_CLASSES = 5\n",
    "NB_FEATURES = X_train.shape[1]\n",
    "\n",
    "Y_train = np_utils.to_categorical(y_train, NB_CLASSES)\n",
    "Y_test = np_utils.to_categorical(y_test, NB_CLASSES)\n",
    "X_train = X_train.reshape(X_train.shape[0],X_train.shape[1],1)\n",
    "X_test = X_test.reshape(X_test.shape[0],X_test.shape[1],1)\n"
   ]
  },
  {
   "cell_type": "code",
   "execution_count": 4,
   "metadata": {},
   "outputs": [
    {
     "name": "stdout",
     "output_type": "stream",
     "text": [
      "Model: \"sequential\"\n",
      "_________________________________________________________________\n",
      "Layer (type)                 Output Shape              Param #   \n",
      "=================================================================\n",
      "simple_rnn (SimpleRNN)       (None, 5)                 35        \n",
      "=================================================================\n",
      "Total params: 35\n",
      "Trainable params: 35\n",
      "Non-trainable params: 0\n",
      "_________________________________________________________________\n"
     ]
    }
   ],
   "source": [
    "# creating model\n",
    "model = keras.Sequential()\n",
    "model.add(keras.layers.SimpleRNN(NB_CLASSES,input_shape=(NB_FEATURES,1),activation = 'sigmoid'))\n",
    "model.summary()"
   ]
  },
  {
   "cell_type": "code",
   "execution_count": 5,
   "metadata": {},
   "outputs": [
    {
     "name": "stdout",
     "output_type": "stream",
     "text": [
      "Epoch 1/20\n",
      "2737/2737 [==============================] - 71s 26ms/step - loss: 0.8338 - accuracy: 0.7972 - val_loss: 0.6598 - val_accuracy: 0.8276\n",
      "Epoch 2/20\n",
      "2737/2737 [==============================] - 70s 26ms/step - loss: 0.6554 - accuracy: 0.8277 - val_loss: 0.6544 - val_accuracy: 0.8276\n",
      "Epoch 3/20\n",
      "2737/2737 [==============================] - 58s 21ms/step - loss: 0.6531 - accuracy: 0.8277 - val_loss: 0.6530 - val_accuracy: 0.8276\n",
      "Epoch 4/20\n",
      "2737/2737 [==============================] - 50s 18ms/step - loss: 0.6515 - accuracy: 0.8277 - val_loss: 0.6517 - val_accuracy: 0.8277\n",
      "Epoch 5/20\n",
      "2737/2737 [==============================] - 50s 18ms/step - loss: 0.6500 - accuracy: 0.8277 - val_loss: 0.6508 - val_accuracy: 0.8277\n",
      "Epoch 6/20\n",
      "2737/2737 [==============================] - 50s 18ms/step - loss: 0.6490 - accuracy: 0.8280 - val_loss: 0.6504 - val_accuracy: 0.8282\n",
      "Epoch 7/20\n",
      "2737/2737 [==============================] - 50s 18ms/step - loss: 0.6485 - accuracy: 0.8285 - val_loss: 0.6504 - val_accuracy: 0.8284\n",
      "Epoch 8/20\n",
      "2737/2737 [==============================] - 50s 18ms/step - loss: 0.6484 - accuracy: 0.8286 - val_loss: 0.6504 - val_accuracy: 0.8284\n",
      "Epoch 9/20\n",
      "2737/2737 [==============================] - 52s 19ms/step - loss: 0.6483 - accuracy: 0.8286 - val_loss: 0.6504 - val_accuracy: 0.8284\n",
      "Epoch 10/20\n",
      "2737/2737 [==============================] - 52s 19ms/step - loss: 0.6482 - accuracy: 0.8287 - val_loss: 0.6503 - val_accuracy: 0.8285\n",
      "Epoch 11/20\n",
      "2737/2737 [==============================] - 50s 18ms/step - loss: 0.6482 - accuracy: 0.8285 - val_loss: 0.6503 - val_accuracy: 0.8283\n",
      "Epoch 12/20\n",
      "2737/2737 [==============================] - 50s 18ms/step - loss: 0.6482 - accuracy: 0.8286 - val_loss: 0.6503 - val_accuracy: 0.8285\n",
      "Epoch 13/20\n",
      "2737/2737 [==============================] - 50s 18ms/step - loss: 0.6481 - accuracy: 0.8285 - val_loss: 0.6502 - val_accuracy: 0.8284\n",
      "Epoch 14/20\n",
      "2737/2737 [==============================] - 51s 19ms/step - loss: 0.6481 - accuracy: 0.8286 - val_loss: 0.6502 - val_accuracy: 0.8284\n",
      "Epoch 15/20\n",
      "2737/2737 [==============================] - 50s 18ms/step - loss: 0.6481 - accuracy: 0.8285 - val_loss: 0.6502 - val_accuracy: 0.8284\n",
      "Epoch 16/20\n",
      "2737/2737 [==============================] - 52s 19ms/step - loss: 0.6480 - accuracy: 0.8286 - val_loss: 0.6503 - val_accuracy: 0.8282\n",
      "Epoch 17/20\n",
      "2737/2737 [==============================] - 50s 18ms/step - loss: 0.6480 - accuracy: 0.8286 - val_loss: 0.6501 - val_accuracy: 0.8285\n",
      "Epoch 18/20\n",
      "2737/2737 [==============================] - 51s 19ms/step - loss: 0.6480 - accuracy: 0.8286 - val_loss: 0.6502 - val_accuracy: 0.8282\n",
      "Epoch 19/20\n",
      "2737/2737 [==============================] - 51s 19ms/step - loss: 0.6480 - accuracy: 0.8286 - val_loss: 0.6501 - val_accuracy: 0.8285\n",
      "Epoch 20/20\n",
      "2737/2737 [==============================] - 50s 18ms/step - loss: 0.6480 - accuracy: 0.8286 - val_loss: 0.6501 - val_accuracy: 0.8284\n"
     ]
    }
   ],
   "source": [
    "# train model with adam optimizer and crossentropy loss function\n",
    "model.compile(optimizer='adam',loss='categorical_crossentropy', metrics=['accuracy'])\n",
    "trained_model = model.fit(x=X_train,y = Y_train,validation_data=(X_test,Y_test),epochs=20)"
   ]
  },
  {
   "cell_type": "code",
   "execution_count": 8,
   "metadata": {},
   "outputs": [
    {
     "name": "stdout",
     "output_type": "stream",
     "text": [
      "685/685 [==============================] - 4s 6ms/step - loss: 0.6501 - accuracy: 0.8284\n",
      "Test accuracy: 0.8284226655960083\n"
     ]
    }
   ],
   "source": [
    "# show accuracy of model\n",
    "score = model.evaluate(X_test, Y_test, verbose=1)\n",
    "print('Test accuracy:', score[1])"
   ]
  },
  {
   "cell_type": "code",
   "execution_count": 6,
   "metadata": {},
   "outputs": [
    {
     "data": {
      "image/png": "[encoded data removed]",
      "text/plain": [
       "<Figure size 432x288 with 1 Axes>"
      ]
     },
     "metadata": {
      "needs_background": "light"
     },
     "output_type": "display_data"
    }
   ],
   "source": [
    "# learning curve and generalization curve\n",
    "plt.plot(trained_model.history['loss'])\n",
    "plt.plot(trained_model.history['val_loss'])\n",
    "plt.title('model loss')\n",
    "plt.ylabel('loss')\n",
    "plt.xlabel('epoch')\n",
    "plt.legend(['train', 'test'], loc='upper left')\n",
    "plt.show()"
   ]
  },
  {
   "cell_type": "code",
   "execution_count": null,
   "metadata": {},
   "outputs": [],
   "source": []
  },
  {
   "cell_type": "code",
   "execution_count": null,
   "metadata": {},
   "outputs": [],
   "source": []
  },
  {
   "cell_type": "code",
   "execution_count": null,
   "metadata": {},
   "outputs": [],
   "source": []
  }
 ],
 "metadata": {
  "kernelspec": {
   "display_name": "Python 3",
   "language": "python",
   "name": "python3"
  },
  "language_info": {
   "codemirror_mode": {
    "name": "ipython",
    "version": 3
   },
   "file_extension": ".py",
   "mimetype": "text/x-python",
   "name": "python",
   "nbconvert_exporter": "python",
   "pygments_lexer": "ipython3",
   "version": "3.7.0"
  }
 },
 "nbformat": 4,
 "nbformat_minor": 4
}
